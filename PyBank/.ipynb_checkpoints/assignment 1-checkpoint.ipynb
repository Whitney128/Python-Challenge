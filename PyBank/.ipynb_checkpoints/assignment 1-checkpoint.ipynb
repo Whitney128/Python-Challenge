{
 "cells": [
  {
   "cell_type": "code",
   "execution_count": 11,
   "metadata": {},
   "outputs": [
    {
     "name": "stdout",
     "output_type": "stream",
     "text": [
      "Finnacial Analysis\n",
      "....................................\n",
      "Total Months: 86\n",
      "Total: $ 38382578\n",
      "Average Change: -2315.12\n",
      "Greatest Increase In Profit: 1926159\n",
      "Greatest Decrease In Profit: -2196167\n"
     ]
    }
   ],
   "source": [
    "import os\n",
    "import csv\n",
    "\n",
    "#add path\n",
    "csv_path = os.path.join(\"Resources\", \"Budget_Data.csv\")\n",
    "\n",
    "#find profit/loss\n",
    "profit = 0\n",
    "months = 0\n",
    "profit_changes = []\n",
    "avg_change = 0\n",
    "previous_month = 0\n",
    "Greatest_increase = []\n",
    "Greatest_decrease = []\n",
    "max_value = []\n",
    "    \n",
    "#open file\n",
    "with open(csv_path, 'r') as csvfile:\n",
    "    csvreader = csv.reader(csvfile, delimiter=\",\")\n",
    "    \n",
    "    csv_header = next(csvreader)\n",
    "    \n",
    "    for row in csvreader:\n",
    "        profit += int(row[1])\n",
    "        months += 1\n",
    "        \n",
    "        if(avg_change >= 1):\n",
    "            profit_changes.append(int(row[1])-previous_month)\n",
    "            previous_month = int(row[1])\n",
    "        else: \n",
    "            previous_month = int(row[1])\n",
    "            avg_change += 1  \n",
    "            \n",
    "max_val = max(profit_changes)\n",
    "min_val = min(profit_changes)\n",
    "file_run = open(\"C:\\\\Users\\\\whitn\\\\Python-Challenge\\\\Python-Challenge\\\\PyBank\\\\Analysis\\\\budget_data.txt\", \"w\")       \n",
    "print(\"Finnacial Analysis\")\n",
    "file_run.write(\"Finnancial Analysis\\n\")\n",
    "print(\"....................................\")\n",
    "file_run.write(\".............................\\n\")\n",
    "print(\"Total Months:\", months)\n",
    "file_run.write(\"Total Months:\" + str(months) + \"\\n\")\n",
    "print(\"Total:\", \"$\", profit)\n",
    "file_run.write(\"Total:\" + \"$\" + str(profit) + \"\\n\")\n",
    "print(\"Average Change:\", round(sum(profit_changes) / len(profit_changes),2))\n",
    "file_run.write(\"Average Change:\" + str(round(sum(profit_changes) / len(profit_changes),2)) + \"\\n\")\n",
    "print(\"Greatest Increase In Profit:\", max_val)\n",
    "file_run.write(\"Greatest Increase In Profit:\" + str(max_val) + \"\\n\")\n",
    "print(\"Greatest Decrease In Profit:\", min_val)\n",
    "file_run.write(\"Greatest Decrease In Profit:\" + str(min_val) + \"\\n\")\n",
    "file_run.close()\n",
    "\n",
    "      \n",
    "\n",
    "    \n",
    "\n",
    "\n",
    "\n"
   ]
  },
  {
   "cell_type": "code",
   "execution_count": null,
   "metadata": {},
   "outputs": [],
   "source": []
  },
  {
   "cell_type": "code",
   "execution_count": null,
   "metadata": {},
   "outputs": [],
   "source": []
  }
 ],
 "metadata": {
  "kernelspec": {
   "display_name": "Python 3",
   "language": "python",
   "name": "python3"
  },
  "language_info": {
   "codemirror_mode": {
    "name": "ipython",
    "version": 3
   },
   "file_extension": ".py",
   "mimetype": "text/x-python",
   "name": "python",
   "nbconvert_exporter": "python",
   "pygments_lexer": "ipython3",
   "version": "3.7.6"
  }
 },
 "nbformat": 4,
 "nbformat_minor": 4
}
