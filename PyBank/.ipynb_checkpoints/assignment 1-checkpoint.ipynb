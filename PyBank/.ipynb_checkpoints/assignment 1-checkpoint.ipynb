{
 "cells": [
  {
   "cell_type": "code",
   "execution_count": 23,
   "metadata": {},
   "outputs": [
    {
     "ename": "TypeError",
     "evalue": "'int' object is not callable",
     "output_type": "error",
     "traceback": [
      "\u001b[1;31m---------------------------------------------------------------------------\u001b[0m",
      "\u001b[1;31mTypeError\u001b[0m                                 Traceback (most recent call last)",
      "\u001b[1;32m<ipython-input-23-82c85d801bdd>\u001b[0m in \u001b[0;36m<module>\u001b[1;34m\u001b[0m\n\u001b[0;32m     34\u001b[0m \u001b[1;32mfor\u001b[0m \u001b[0mmax\u001b[0m \u001b[1;32min\u001b[0m \u001b[0mprofit_changes\u001b[0m\u001b[1;33m:\u001b[0m\u001b[1;33m\u001b[0m\u001b[1;33m\u001b[0m\u001b[0m\n\u001b[0;32m     35\u001b[0m     \u001b[1;32mtry\u001b[0m\u001b[1;33m:\u001b[0m\u001b[1;33m\u001b[0m\u001b[1;33m\u001b[0m\u001b[0m\n\u001b[1;32m---> 36\u001b[1;33m             \u001b[0mmax_val\u001b[0m \u001b[1;33m=\u001b[0m \u001b[0mmax\u001b[0m\u001b[1;33m(\u001b[0m\u001b[1;36m0\u001b[0m\u001b[1;33m)\u001b[0m\u001b[1;33m\u001b[0m\u001b[1;33m\u001b[0m\u001b[0m\n\u001b[0m\u001b[0;32m     37\u001b[0m     \u001b[1;32mexcept\u001b[0m \u001b[0mValueError\u001b[0m\u001b[1;33m:\u001b[0m\u001b[1;33m\u001b[0m\u001b[1;33m\u001b[0m\u001b[0m\n\u001b[0;32m     38\u001b[0m             \u001b[0mmax_val\u001b[0m \u001b[1;33m=\u001b[0m \u001b[0mdefault\u001b[0m\u001b[1;33m\u001b[0m\u001b[1;33m\u001b[0m\u001b[0m\n",
      "\u001b[1;31mTypeError\u001b[0m: 'int' object is not callable"
     ]
    }
   ],
   "source": [
    "import os\n",
    "import csv\n",
    "\n",
    "#add path\n",
    "csv_path = os.path.join(\"Resources\", \"Budget_Data.csv\")\n",
    "\n",
    "#find profit/loss\n",
    "profit = 0\n",
    "months = 0\n",
    "profit_changes = []\n",
    "avg_change = 0\n",
    "previous_month = 0\n",
    "Greatest_increase = []\n",
    "Greatest_decrease = []\n",
    "    \n",
    "#open file\n",
    "with open(csv_path, 'r') as csvfile:\n",
    "    csvreader = csv.reader(csvfile, delimiter=\",\")\n",
    "    \n",
    "    csv_header = next(csvreader)\n",
    "    \n",
    "    for row in csvreader:\n",
    "        profit += int(row[1])\n",
    "        months += 1\n",
    "        \n",
    "        if(avg_change >= 1):\n",
    "            profit_changes.append(int(row[1])-previous_month)\n",
    "            previous_month = int(row[1])\n",
    "        else: \n",
    "            previous_month = int(row[1])\n",
    "            avg_change += 1  \n",
    "            \n",
    "        #find greatest increase in profits\n",
    "for max in profit_changes:\n",
    "    try:\n",
    "            max_val = max(0)\n",
    "    except ValueError:\n",
    "            max_val = default \n",
    "greatest_increase = max(profit_changes)\n",
    "greatest_increase = '${}'.format(greatest_increase)\n",
    "increase_month += 1 \n",
    "print(increase_month + \"\" + greatest_increase)\n",
    "\n",
    "    #find greatest decrease in profits\n",
    "# for min in profit_changes:\n",
    "    #try:\n",
    "            #min_value = min()\n",
    "        #except ValueError:\n",
    "            #min_value = default\n",
    "#greatest_decrease = min(profit_changes)\n",
    "#greatest_decrease = '${}'.format(greatest_decrease)\n",
    "#decrease_month = 1\n",
    "#print(decrease_month + \"\" + decrease_month)\n",
    "        \n",
    "            \n",
    "        \n",
    "\n",
    "print(months)\n",
    "print(profit)\n",
    "print(round(sum(profit_changes) / len(profit_changes),2))\n",
    "print(\"Greatest Increase In Profit:\" + \"increase_month\" + \"greatest_increase\")\n",
    "print(\"Greatest Decrease In Profit:\" + \"decrease_month\" + \"greatest_decrease\")\n",
    "\n",
    "      \n",
    "\n",
    "    \n",
    "\n",
    "\n",
    "\n"
   ]
  },
  {
   "cell_type": "code",
   "execution_count": null,
   "metadata": {},
   "outputs": [],
   "source": []
  },
  {
   "cell_type": "code",
   "execution_count": null,
   "metadata": {},
   "outputs": [],
   "source": []
  }
 ],
 "metadata": {
  "kernelspec": {
   "display_name": "Python 3",
   "language": "python",
   "name": "python3"
  },
  "language_info": {
   "codemirror_mode": {
    "name": "ipython",
    "version": 3
   },
   "file_extension": ".py",
   "mimetype": "text/x-python",
   "name": "python",
   "nbconvert_exporter": "python",
   "pygments_lexer": "ipython3",
   "version": "3.7.6"
  }
 },
 "nbformat": 4,
 "nbformat_minor": 4
}
