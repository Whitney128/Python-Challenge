{
 "cells": [
  {
   "cell_type": "code",
   "execution_count": 2,
   "metadata": {},
   "outputs": [
    {
     "ename": "SyntaxError",
     "evalue": "invalid syntax (<ipython-input-2-825acf351d5f>, line 45)",
     "output_type": "error",
     "traceback": [
      "\u001b[1;36m  File \u001b[1;32m\"<ipython-input-2-825acf351d5f>\"\u001b[1;36m, line \u001b[1;32m45\u001b[0m\n\u001b[1;33m    if Winner >= candidate_vote_count then\u001b[0m\n\u001b[1;37m                                         ^\u001b[0m\n\u001b[1;31mSyntaxError\u001b[0m\u001b[1;31m:\u001b[0m invalid syntax\n"
     ]
    }
   ],
   "source": [
    "import os\n",
    "import csv\n",
    "\n",
    "#add path\n",
    "csv_path = os.path.join(\"Resources\", \"Election_Data.csv\")\n",
    "\n",
    "#find total votes, percentage of votes per candiate, winner\n",
    "total_votes = 0\n",
    "Winner = 1\n",
    "votecount = 0;\n",
    "candidate_vote_count = {}\n",
    "candidate_vote_count_percentage = {}\n",
    "name=\"\"\n",
    "khan_percent = []\n",
    "khan_votes = []\n",
    "max_votes = []\n",
    "\n",
    "\n",
    "#open file\n",
    "with open(csv_path, 'r') as csvfile:\n",
    "    csvreader = csv.reader(csvfile, delimiter=\",\")\n",
    "    #print(csvreader)\n",
    "    csv_header = next(csvreader)\n",
    "    \n",
    "    for row in csvreader:\n",
    "        name = row[2]\n",
    "        votecount = votecount+1\n",
    "        total_votes = total_votes + 1\n",
    "        if name in candidate_vote_count:\n",
    "            vote = candidate_vote_count.get(name)\n",
    "            candidate_vote_count[name] = vote+1\n",
    "        else:\n",
    "            candidate_vote_count[name] = 1\n",
    "            \n",
    "            \n",
    "   \n",
    "    for name in candidate_vote_count:\n",
    "        candidate_vote_count_percentage = float(candidate_vote_count.get(name)/float(total_votes))*100\n",
    "        print(name + \":\"+ f\"{candidate_vote_count_percentage:.3f}%\")\n",
    "\n",
    "    #find max votes\n",
    "    \n",
    "    for candidate in candidate_vote_count:\n",
    "        Winner = candidate\n",
    "        if Winner > candidate_vote_count then \n",
    "        Winner = true\n",
    "        else: \n",
    "        Winner < candidate_vote_count\n",
    "        Winner = false\n",
    "        print(Winner + name)\n",
    "    \n",
    "    \n",
    "print(votecount)\n",
    "print(candidate_vote_count)\n",
    "print(candidate_vote_count_percentage)\n",
    "print(\"Winner =:\" + \"name\")\n",
    "\n",
    "        \n",
    "    \n",
    "\n",
    "\n",
    "\n",
    "#Find Analysis\n",
    "print(\"Election Results\")\n",
    "print(\".............................................\")\n",
    "\n",
    "\n",
    "\n"
   ]
  },
  {
   "cell_type": "code",
   "execution_count": null,
   "metadata": {},
   "outputs": [],
   "source": []
  }
 ],
 "metadata": {
  "kernelspec": {
   "display_name": "Python 3",
   "language": "python",
   "name": "python3"
  },
  "language_info": {
   "codemirror_mode": {
    "name": "ipython",
    "version": 3
   },
   "file_extension": ".py",
   "mimetype": "text/x-python",
   "name": "python",
   "nbconvert_exporter": "python",
   "pygments_lexer": "ipython3",
   "version": "3.7.6"
  }
 },
 "nbformat": 4,
 "nbformat_minor": 4
}
