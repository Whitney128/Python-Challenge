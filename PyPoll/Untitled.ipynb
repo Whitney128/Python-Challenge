{
 "cells": [
  {
   "cell_type": "code",
   "execution_count": null,
   "metadata": {},
   "outputs": [],
   "source": [
    "import os\n",
    "import csv\n",
    "\n",
    "#add path\n",
    "csv_path = os.path.join(\"Resources\", \"Election_Data.csv\")\n",
    "#open file\n",
    "with open(csv_path, 'r') as csvfile:\n",
    "    csvreader =csvreader(csvfile, delimeter=\",\")\n",
    "    csv_header = next(csvfile)"
   ]
  },
  {
   "cell_type": "code",
   "execution_count": null,
   "metadata": {},
   "outputs": [],
   "source": [
    "print(f\"header\": \"Election Results\")"
   ]
  },
  {
   "cell_type": "code",
   "execution_count": null,
   "metadata": {},
   "outputs": [],
   "source": [
    "#find total votes, percentage of votes per candiate, winner\n",
    "    total votes = []\n",
    "    percentage votes Khan = []\n",
    "    percentage votes Correy = []\n",
    "    percentage votes Li = []\n",
    "    percentage votes O'Tooley = []\n",
    "    Winner = []\n",
    "       #total votes\n",
    "total_votes = len(Election_Data.csv)\n",
    "  #percentage\n",
    "percentage_votes = (candiates_count/total_votes)*100"
   ]
  },
  {
   "cell_type": "code",
   "execution_count": null,
   "metadata": {},
   "outputs": [],
   "source": []
  },
  {
   "cell_type": "code",
   "execution_count": null,
   "metadata": {},
   "outputs": [],
   "source": []
  }
 ],
 "metadata": {
  "kernelspec": {
   "display_name": "Python 3",
   "language": "python",
   "name": "python3"
  },
  "language_info": {
   "codemirror_mode": {
    "name": "ipython",
    "version": 3
   },
   "file_extension": ".py",
   "mimetype": "text/x-python",
   "name": "python",
   "nbconvert_exporter": "python",
   "pygments_lexer": "ipython3",
   "version": "3.7.6"
  }
 },
 "nbformat": 4,
 "nbformat_minor": 4
}
